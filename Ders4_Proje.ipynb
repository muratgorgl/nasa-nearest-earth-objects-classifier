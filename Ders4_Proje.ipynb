{
  "nbformat": 4,
  "nbformat_minor": 0,
  "metadata": {
    "colab": {
      "provenance": [],
      "authorship_tag": "ABX9TyMojevRuHyuTUo8e5b68z3X",
      "include_colab_link": true
    },
    "kernelspec": {
      "name": "python3",
      "display_name": "Python 3"
    },
    "language_info": {
      "name": "python"
    }
  },
  "cells": [
    {
      "cell_type": "markdown",
      "metadata": {
        "id": "view-in-github",
        "colab_type": "text"
      },
      "source": [
        "<a href=\"https://colab.research.google.com/github/muratgorgl/nasa-nearest-earth-objects-classifier/blob/main/Ders4_Proje.ipynb\" target=\"_parent\"><img src=\"https://colab.research.google.com/assets/colab-badge.svg\" alt=\"Open In Colab\"/></a>"
      ]
    },
    {
      "cell_type": "code",
      "execution_count": 1,
      "metadata": {
        "colab": {
          "base_uri": "https://localhost:8080/"
        },
        "id": "d5t6UzprwQid",
        "outputId": "0b0b16c4-47d6-4300-9b65-8bcb191e5d55"
      },
      "outputs": [
        {
          "output_type": "stream",
          "name": "stdout",
          "text": [
            "Mounted at /content/drive\n"
          ]
        }
      ],
      "source": [
        "from google.colab import drive\n",
        "drive.mount(\"/content/drive\")"
      ]
    },
    {
      "cell_type": "code",
      "source": [
        "import pandas as pd\n",
        "\n",
        "dataset=pd.read_csv(\"/content/drive/My Drive/BTK_Akademi_YapayZeka/nearest-earth-objects(1910-2024).csv\")\n",
        "\n",
        "print(dataset)"
      ],
      "metadata": {
        "colab": {
          "base_uri": "https://localhost:8080/"
        },
        "id": "KEA04RDKwhG2",
        "outputId": "85b74944-4d80-4f84-d022-3512e4bb8b0a"
      },
      "execution_count": 35,
      "outputs": [
        {
          "output_type": "stream",
          "name": "stdout",
          "text": [
            "          neo_id                name  absolute_magnitude  \\\n",
            "0        2162117  162117 (1998 SD15)              19.140   \n",
            "1        2349507    349507 (2008 QY)              18.500   \n",
            "2        2455415    455415 (2003 GA)              21.450   \n",
            "3        3132126           (2002 PB)              20.630   \n",
            "4        3557844           (2011 DW)              22.700   \n",
            "...          ...                 ...                 ...   \n",
            "338194  54403809          (2023 VS4)              28.580   \n",
            "338195  54415298          (2023 XW5)              28.690   \n",
            "338196  54454871          (2024 KJ7)              21.919   \n",
            "338197  54456245           (2024 NE)              23.887   \n",
            "338198  54460573          (2024 NH3)              22.951   \n",
            "\n",
            "        estimated_diameter_min  estimated_diameter_max orbiting_body  \\\n",
            "0                     0.394962                0.883161         Earth   \n",
            "1                     0.530341                1.185878         Earth   \n",
            "2                     0.136319                0.304818         Earth   \n",
            "3                     0.198863                0.444672         Earth   \n",
            "4                     0.076658                0.171412         Earth   \n",
            "...                        ...                     ...           ...   \n",
            "338194                0.005112                0.011430         Earth   \n",
            "338195                0.004859                0.010865         Earth   \n",
            "338196                0.109839                0.245607         Earth   \n",
            "338197                0.044377                0.099229         Earth   \n",
            "338198                0.068290                0.152700         Earth   \n",
            "\n",
            "        relative_velocity  miss_distance  is_hazardous  \n",
            "0            71745.401048   5.814362e+07         False  \n",
            "1           109949.757148   5.580105e+07          True  \n",
            "2            24865.506798   6.720689e+07         False  \n",
            "3            78890.076805   3.039644e+07         False  \n",
            "4            56036.519484   6.311863e+07         False  \n",
            "...                   ...            ...           ...  \n",
            "338194       56646.985988   6.406548e+07         False  \n",
            "338195       21130.768947   2.948883e+07         False  \n",
            "338196       11832.041031   5.346078e+07         False  \n",
            "338197       56198.382733   5.184742e+06         False  \n",
            "338198       42060.357830   7.126682e+06         False  \n",
            "\n",
            "[338199 rows x 9 columns]\n"
          ]
        }
      ]
    },
    {
      "cell_type": "code",
      "source": [
        "dataset.info()"
      ],
      "metadata": {
        "colab": {
          "base_uri": "https://localhost:8080/"
        },
        "id": "imUDzZo9xBVt",
        "outputId": "4476067c-6bd2-4f02-f398-87ede1c2595d"
      },
      "execution_count": 36,
      "outputs": [
        {
          "output_type": "stream",
          "name": "stdout",
          "text": [
            "<class 'pandas.core.frame.DataFrame'>\n",
            "RangeIndex: 338199 entries, 0 to 338198\n",
            "Data columns (total 9 columns):\n",
            " #   Column                  Non-Null Count   Dtype  \n",
            "---  ------                  --------------   -----  \n",
            " 0   neo_id                  338199 non-null  int64  \n",
            " 1   name                    338199 non-null  object \n",
            " 2   absolute_magnitude      338171 non-null  float64\n",
            " 3   estimated_diameter_min  338171 non-null  float64\n",
            " 4   estimated_diameter_max  338171 non-null  float64\n",
            " 5   orbiting_body           338199 non-null  object \n",
            " 6   relative_velocity       338199 non-null  float64\n",
            " 7   miss_distance           338199 non-null  float64\n",
            " 8   is_hazardous            338199 non-null  bool   \n",
            "dtypes: bool(1), float64(5), int64(1), object(2)\n",
            "memory usage: 21.0+ MB\n"
          ]
        }
      ]
    },
    {
      "cell_type": "code",
      "source": [
        "import numpy as np\n",
        "\n",
        "from sklearn.preprocessing import MinMaxScaler\n",
        "\n",
        "scaler=MinMaxScaler()\n",
        "\n",
        "dataset[[\"absolute_magnitude\",\"relative_velocity\",\"miss_distance\"]]=scaler.fit_transform(dataset[[\"absolute_magnitude\",\"relative_velocity\",\"miss_distance\"]])\n",
        "\n",
        "print(dataset)"
      ],
      "metadata": {
        "colab": {
          "base_uri": "https://localhost:8080/"
        },
        "id": "KTT-W2CbxFM6",
        "outputId": "f7bc7c77-01b7-4e2c-8c6d-e07e7a7419f5"
      },
      "execution_count": 37,
      "outputs": [
        {
          "output_type": "stream",
          "name": "stdout",
          "text": [
            "          neo_id                name  absolute_magnitude  \\\n",
            "0        2162117  162117 (1998 SD15)            0.406494   \n",
            "1        2349507    349507 (2008 QY)            0.380189   \n",
            "2        2455415    455415 (2003 GA)            0.501439   \n",
            "3        3132126           (2002 PB)            0.467735   \n",
            "4        3557844           (2011 DW)            0.552815   \n",
            "...          ...                 ...                 ...   \n",
            "338194  54403809          (2023 VS4)            0.794492   \n",
            "338195  54415298          (2023 XW5)            0.799014   \n",
            "338196  54454871          (2024 KJ7)            0.520715   \n",
            "338197  54456245           (2024 NE)            0.601603   \n",
            "338198  54460573          (2024 NH3)            0.563132   \n",
            "\n",
            "        estimated_diameter_min  estimated_diameter_max orbiting_body  \\\n",
            "0                     0.394962                0.883161         Earth   \n",
            "1                     0.530341                1.185878         Earth   \n",
            "2                     0.136319                0.304818         Earth   \n",
            "3                     0.198863                0.444672         Earth   \n",
            "4                     0.076658                0.171412         Earth   \n",
            "...                        ...                     ...           ...   \n",
            "338194                0.005112                0.011430         Earth   \n",
            "338195                0.004859                0.010865         Earth   \n",
            "338196                0.109839                0.245607         Earth   \n",
            "338197                0.044377                0.099229         Earth   \n",
            "338198                0.068290                0.152700         Earth   \n",
            "\n",
            "        relative_velocity  miss_distance  is_hazardous  \n",
            "0                0.245362       0.777315         False  \n",
            "1                0.376388       0.745994          True  \n",
            "2                0.084582       0.898495         False  \n",
            "3                0.269865       0.406323         False  \n",
            "4                0.191486       0.843833         False  \n",
            "...                   ...            ...           ...  \n",
            "338194           0.193580       0.856493         False  \n",
            "338195           0.071773       0.394188         False  \n",
            "338196           0.039882       0.714704         False  \n",
            "338197           0.192042       0.069232         False  \n",
            "338198           0.143554       0.095197         False  \n",
            "\n",
            "[338199 rows x 9 columns]\n"
          ]
        }
      ]
    },
    {
      "cell_type": "code",
      "source": [
        "from sklearn.preprocessing import LabelEncoder\n",
        "\n",
        "le=LabelEncoder()\n",
        "\n",
        "dataset[\"is_hazardous\"]=le.fit_transform(dataset[\"is_hazardous\"])\n",
        "\n",
        "dataset = dataset.dropna()\n",
        "\n",
        "print(dataset)\n"
      ],
      "metadata": {
        "colab": {
          "base_uri": "https://localhost:8080/"
        },
        "id": "hkdN9XCsx3eM",
        "outputId": "ce3c2a91-e72e-40a3-be86-f4259897a603"
      },
      "execution_count": 38,
      "outputs": [
        {
          "output_type": "stream",
          "name": "stdout",
          "text": [
            "          neo_id                name  absolute_magnitude  \\\n",
            "0        2162117  162117 (1998 SD15)            0.406494   \n",
            "1        2349507    349507 (2008 QY)            0.380189   \n",
            "2        2455415    455415 (2003 GA)            0.501439   \n",
            "3        3132126           (2002 PB)            0.467735   \n",
            "4        3557844           (2011 DW)            0.552815   \n",
            "...          ...                 ...                 ...   \n",
            "338194  54403809          (2023 VS4)            0.794492   \n",
            "338195  54415298          (2023 XW5)            0.799014   \n",
            "338196  54454871          (2024 KJ7)            0.520715   \n",
            "338197  54456245           (2024 NE)            0.601603   \n",
            "338198  54460573          (2024 NH3)            0.563132   \n",
            "\n",
            "        estimated_diameter_min  estimated_diameter_max orbiting_body  \\\n",
            "0                     0.394962                0.883161         Earth   \n",
            "1                     0.530341                1.185878         Earth   \n",
            "2                     0.136319                0.304818         Earth   \n",
            "3                     0.198863                0.444672         Earth   \n",
            "4                     0.076658                0.171412         Earth   \n",
            "...                        ...                     ...           ...   \n",
            "338194                0.005112                0.011430         Earth   \n",
            "338195                0.004859                0.010865         Earth   \n",
            "338196                0.109839                0.245607         Earth   \n",
            "338197                0.044377                0.099229         Earth   \n",
            "338198                0.068290                0.152700         Earth   \n",
            "\n",
            "        relative_velocity  miss_distance  is_hazardous  \n",
            "0                0.245362       0.777315             0  \n",
            "1                0.376388       0.745994             1  \n",
            "2                0.084582       0.898495             0  \n",
            "3                0.269865       0.406323             0  \n",
            "4                0.191486       0.843833             0  \n",
            "...                   ...            ...           ...  \n",
            "338194           0.193580       0.856493             0  \n",
            "338195           0.071773       0.394188             0  \n",
            "338196           0.039882       0.714704             0  \n",
            "338197           0.192042       0.069232             0  \n",
            "338198           0.143554       0.095197             0  \n",
            "\n",
            "[338171 rows x 9 columns]\n"
          ]
        }
      ]
    },
    {
      "cell_type": "code",
      "source": [
        "XSample=dataset.drop([\"orbiting_body\",\"neo_id\",\"name\",\"is_hazardous\"],axis=1)\n",
        "ySample=dataset.is_hazardous\n",
        "\n",
        "print(XSample)\n",
        "print(ySample)"
      ],
      "metadata": {
        "colab": {
          "base_uri": "https://localhost:8080/"
        },
        "id": "gBmqHNl2yaPK",
        "outputId": "b8e1a716-28bf-487a-b62e-f2daa8c04bd4"
      },
      "execution_count": 39,
      "outputs": [
        {
          "output_type": "stream",
          "name": "stdout",
          "text": [
            "        absolute_magnitude  estimated_diameter_min  estimated_diameter_max  \\\n",
            "0                 0.406494                0.394962                0.883161   \n",
            "1                 0.380189                0.530341                1.185878   \n",
            "2                 0.501439                0.136319                0.304818   \n",
            "3                 0.467735                0.198863                0.444672   \n",
            "4                 0.552815                0.076658                0.171412   \n",
            "...                    ...                     ...                     ...   \n",
            "338194            0.794492                0.005112                0.011430   \n",
            "338195            0.799014                0.004859                0.010865   \n",
            "338196            0.520715                0.109839                0.245607   \n",
            "338197            0.601603                0.044377                0.099229   \n",
            "338198            0.563132                0.068290                0.152700   \n",
            "\n",
            "        relative_velocity  miss_distance  \n",
            "0                0.245362       0.777315  \n",
            "1                0.376388       0.745994  \n",
            "2                0.084582       0.898495  \n",
            "3                0.269865       0.406323  \n",
            "4                0.191486       0.843833  \n",
            "...                   ...            ...  \n",
            "338194           0.193580       0.856493  \n",
            "338195           0.071773       0.394188  \n",
            "338196           0.039882       0.714704  \n",
            "338197           0.192042       0.069232  \n",
            "338198           0.143554       0.095197  \n",
            "\n",
            "[338171 rows x 5 columns]\n",
            "0         0\n",
            "1         1\n",
            "2         0\n",
            "3         0\n",
            "4         0\n",
            "         ..\n",
            "338194    0\n",
            "338195    0\n",
            "338196    0\n",
            "338197    0\n",
            "338198    0\n",
            "Name: is_hazardous, Length: 338171, dtype: int64\n"
          ]
        }
      ]
    },
    {
      "cell_type": "code",
      "source": [
        "from sklearn.model_selection import train_test_split\n",
        "\n",
        "X_train , X_test , y_train , y_test = train_test_split(XSample , ySample , test_size=0.2 , random_state=42)\n",
        "\n",
        "\n",
        "X_train, X_val, y_train, y_val = train_test_split(X_train, y_train, test_size=0.25, random_state=42)\n",
        "\n",
        "print(\"Eğitim seti boyutu:\", X_train.shape, y_train.shape)\n",
        "print(\"Doğrulama seti boyutu:\", X_val.shape, y_val.shape)\n",
        "print(\"Test seti boyutu:\", X_test.shape, y_test.shape)"
      ],
      "metadata": {
        "colab": {
          "base_uri": "https://localhost:8080/"
        },
        "id": "kXjZg8nTy2Vc",
        "outputId": "8daa29ea-7229-49d0-a551-5f75a1259c07"
      },
      "execution_count": 44,
      "outputs": [
        {
          "output_type": "stream",
          "name": "stdout",
          "text": [
            "Eğitim seti boyutu: (202902, 5) (202902,)\n",
            "Doğrulama seti boyutu: (67634, 5) (67634,)\n",
            "Test seti boyutu: (67635, 5) (67635,)\n"
          ]
        }
      ]
    },
    {
      "cell_type": "code",
      "source": [
        "from sklearn.ensemble import RandomForestClassifier\n",
        "from sklearn.metrics import classification_report, confusion_matrix, accuracy_score\n",
        "\n",
        "\n",
        "rf_classifier = RandomForestClassifier(random_state=42)\n",
        "\n",
        "\n",
        "rf_classifier.fit(X_train, y_train)\n",
        "\n",
        "y_test_pred = rf_classifier.predict(X_test)\n",
        "\n",
        "y_val_pred = rf_classifier.predict(X_val)\n",
        "\n"
      ],
      "metadata": {
        "id": "QjDXlWkY0EHM"
      },
      "execution_count": 48,
      "outputs": []
    },
    {
      "cell_type": "code",
      "source": [
        "\n",
        "print(\"Validation Set Performance:\")\n",
        "print(confusion_matrix(y_val, y_val_pred))\n",
        "print(classification_report(y_val, y_val_pred))\n",
        "print(\"Accuracy:\", accuracy_score(y_val, y_val_pred))\n",
        "\n",
        "\n",
        "y_test_pred = rf_classifier.predict(X_test)\n",
        "\n",
        "\n",
        "print(\"Test Set Performance:\")\n",
        "print(confusion_matrix(y_test, y_test_pred))\n",
        "print(classification_report(y_test, y_test_pred))\n",
        "print(\"Accuracy:\", accuracy_score(y_test, y_test_pred))"
      ],
      "metadata": {
        "colab": {
          "base_uri": "https://localhost:8080/"
        },
        "id": "3wLMXsaq46gM",
        "outputId": "d0a7bc43-c55b-4fe7-9496-3d359601d932"
      },
      "execution_count": 49,
      "outputs": [
        {
          "output_type": "stream",
          "name": "stdout",
          "text": [
            "Validation Set Performance:\n",
            "[[45526  1670]\n",
            " [ 3001  3911]]\n",
            "              precision    recall  f1-score   support\n",
            "\n",
            "           0       0.94      0.96      0.95     47196\n",
            "           1       0.70      0.57      0.63      6912\n",
            "\n",
            "    accuracy                           0.91     54108\n",
            "   macro avg       0.82      0.77      0.79     54108\n",
            "weighted avg       0.91      0.91      0.91     54108\n",
            "\n",
            "Accuracy: 0.9136726546906188\n",
            "Test Set Performance:\n",
            "[[57030  2058]\n",
            " [ 3748  4799]]\n",
            "              precision    recall  f1-score   support\n",
            "\n",
            "           0       0.94      0.97      0.95     59088\n",
            "           1       0.70      0.56      0.62      8547\n",
            "\n",
            "    accuracy                           0.91     67635\n",
            "   macro avg       0.82      0.76      0.79     67635\n",
            "weighted avg       0.91      0.91      0.91     67635\n",
            "\n",
            "Accuracy: 0.9141568714423006\n"
          ]
        }
      ]
    },
    {
      "cell_type": "code",
      "source": [],
      "metadata": {
        "id": "O89BN2QZ6xWp"
      },
      "execution_count": null,
      "outputs": []
    }
  ]
}